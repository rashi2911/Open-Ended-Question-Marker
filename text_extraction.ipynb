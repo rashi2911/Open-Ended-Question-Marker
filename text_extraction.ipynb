{
 "cells": [
  {
   "cell_type": "code",
   "execution_count": 22,
   "id": "150bdf09",
   "metadata": {
    "scrolled": true
   },
   "outputs": [
    {
     "name": "stdout",
     "output_type": "stream",
     "text": [
      "Collecting pdfplumber\n",
      "  Downloading pdfplumber-0.7.6-py3-none-any.whl (40 kB)\n",
      "     -------------------------------------- 40.6/40.6 kB 194.7 kB/s eta 0:00:00\n",
      "Requirement already satisfied: Pillow>=9.1 in e:\\anaconda3\\lib\\site-packages (from pdfplumber) (9.2.0)\n",
      "Collecting pdfminer.six==20221105\n",
      "  Downloading pdfminer.six-20221105-py3-none-any.whl (5.6 MB)\n",
      "     ---------------------------------------- 5.6/5.6 MB 335.5 kB/s eta 0:00:00\n",
      "Collecting Wand>=0.6.10\n",
      "  Downloading Wand-0.6.11-py2.py3-none-any.whl (143 kB)\n",
      "     ------------------------------------ 143.6/143.6 kB 174.1 kB/s eta 0:00:00\n",
      "Requirement already satisfied: cryptography>=36.0.0 in e:\\anaconda3\\lib\\site-packages (from pdfminer.six==20221105->pdfplumber) (37.0.1)\n",
      "Requirement already satisfied: charset-normalizer>=2.0.0 in e:\\anaconda3\\lib\\site-packages (from pdfminer.six==20221105->pdfplumber) (2.0.4)\n",
      "Requirement already satisfied: cffi>=1.12 in e:\\anaconda3\\lib\\site-packages (from cryptography>=36.0.0->pdfminer.six==20221105->pdfplumber) (1.15.1)\n",
      "Requirement already satisfied: pycparser in e:\\anaconda3\\lib\\site-packages (from cffi>=1.12->cryptography>=36.0.0->pdfminer.six==20221105->pdfplumber) (2.21)\n",
      "Installing collected packages: Wand, pdfminer.six, pdfplumber\n",
      "Successfully installed Wand-0.6.11 pdfminer.six-20221105 pdfplumber-0.7.6\n"
     ]
    }
   ],
   "source": [
    "!pip install pdfplumber \n"
   ]
  },
  {
   "cell_type": "code",
   "execution_count": 3,
   "id": "c8d5e558",
   "metadata": {},
   "outputs": [],
   "source": [
    "list_words = []"
   ]
  },
  {
   "cell_type": "code",
   "execution_count": 4,
   "id": "a4e2233c",
   "metadata": {},
   "outputs": [
    {
     "name": "stdout",
     "output_type": "stream",
     "text": [
      "['1.  What is cloud? \\na)  It is provision of services that can be compute, storage, networking on demand over \\ninternet. You only pay for what you use. \\n2.  What is your name? \\na)  My name is Rashi Agarwal. I’m a pre-final year student currently pursuing B.Tech in \\ncomputer science from UPES, Dehradun. ']\n"
     ]
    }
   ],
   "source": [
    "import pdfplumber\n",
    "\n",
    "with pdfplumber.open('testing.pdf') as pdf:\n",
    "    first_page=pdf.pages[0]\n",
    "    list_words.append(first_page.extract_text())\n",
    "    print(list_words)\n",
    "\n",
    "\n",
    "# pdfFileObj = open('testing.pdf', 'rb') \n",
    "# pdfReader = PyPDF2.PdfFileReader(pdfFileObj)  \n",
    "# print(pdfReader.numPages) \n",
    "# for i in range (0,pdfReader.numPages):\n",
    "    \n",
    "#     pageObj = pdfReader.getPage(i) \n",
    "#     list_words.append(pageObj.extractText())\n",
    "\n",
    "# pdfFileObj.close() "
   ]
  },
  {
   "cell_type": "code",
   "execution_count": 6,
   "id": "30c5418c",
   "metadata": {
    "scrolled": false
   },
   "outputs": [
    {
     "name": "stdout",
     "output_type": "stream",
     "text": [
      "1.  What is cloud? \n",
      "a)  It is provision of services that can be compute, storage, networking on demand over \n",
      "internet. You only pay for what you use. \n",
      "2.  What is your name? \n",
      "a)  My name is Rashi Agarwal. I’m a pre-final year student currently pursuing B.Tech in \n",
      "computer science from UPES, Dehradun. \n"
     ]
    }
   ],
   "source": [
    "#list_words\n",
    "parts = first_page.extract_text().split('\\n')\n",
    "#print(parts)\n",
    "str1=''\n",
    "for i in range(0,len(list_words)):\n",
    "    str1+=list_words[i];\n",
    "\n",
    "print(str1)\n",
    "#print(list_words)"
   ]
  },
  {
   "cell_type": "code",
   "execution_count": 8,
   "id": "ee93661a",
   "metadata": {},
   "outputs": [
    {
     "name": "stdout",
     "output_type": "stream",
     "text": [
      "(' It is provision of services that can be compute, storage, networking on demand over \\ninternet. You only pay for what you use. ', ' My name is Rashi Agarwal. I’m a pre-final year student currently pursuing B.Tech in \\ncomputer science from UPES, Dehradun. ')\n"
     ]
    }
   ],
   "source": [
    "import re\n",
    "qa = []\n",
    "block = []\n",
    "\n",
    "for chunk in re.split(r\"\\n(?=[a-z\\d][).] )\", str1):\n",
    "#     if m:= re.match(r\"\\d+\\. (.+)\", chunk, re.S):\n",
    "#         qa.append(tuple(block))\n",
    "#         block = [m.group(1)]\n",
    "    if m := re.match(r\"[a-z]+\\) (.+?)(?=\\n\\n|$|[a-z]+\\) )\", chunk, re.S):\n",
    "        block.append(m.group(1))\n",
    "\n",
    "qa = qa[1:] + [tuple(block)]\n",
    "\n",
    "for line in qa: \n",
    "    print(line)\n",
    "\n",
    "# quiz = []\n",
    "# for category in re.split(\"\\n\\n\", str1):\n",
    "#     qa = re.findall(r\"^\\d+\\.\\s+(.*?)(^[a-z][).](?:[^\\n]|\\n(?!\\d))*)\", category, re.DOTALL | re.MULTILINE)\n",
    "#     for question, answers in qa:       \n",
    "#         quiz.append(( re.findall(r\"^[a-z][).]\\s+((?:[^\\n]|\\n(?![a-z]))*)\", answers, re.MULTILINE)))\n",
    "\n",
    "# print (quiz)"
   ]
  },
  {
   "cell_type": "code",
   "execution_count": 9,
   "id": "27484049",
   "metadata": {},
   "outputs": [],
   "source": [
    "new_arr=[]\n",
    "for sub in line:\n",
    "    new_arr.append(sub.replace(\"\\n\",\"\"))"
   ]
  },
  {
   "cell_type": "code",
   "execution_count": 44,
   "id": "7b374de9",
   "metadata": {},
   "outputs": [
    {
     "name": "stdout",
     "output_type": "stream",
     "text": [
      "[' It is provision of services that can be compute, storage, networking on demand over internet. You only pay for what you use. ', ' My name is Rashi Agarwal. I’m a pre-final year student currently pursuing B.Tech in computer science from UPES, Dehradun. ']\n"
     ]
    }
   ],
   "source": [
    "print(new_arr)"
   ]
  },
  {
   "cell_type": "code",
   "execution_count": 45,
   "id": "790bc738",
   "metadata": {},
   "outputs": [
    {
     "data": {
      "text/plain": [
       "2"
      ]
     },
     "execution_count": 45,
     "metadata": {},
     "output_type": "execute_result"
    }
   ],
   "source": [
    "len(new_arr)"
   ]
  },
  {
   "cell_type": "code",
   "execution_count": 10,
   "id": "0a6a88a1",
   "metadata": {},
   "outputs": [
    {
     "ename": "ModuleNotFoundError",
     "evalue": "No module named 'question_generation_main'",
     "output_type": "error",
     "traceback": [
      "\u001b[1;31m---------------------------------------------------------------------------\u001b[0m",
      "\u001b[1;31mModuleNotFoundError\u001b[0m                       Traceback (most recent call last)",
      "\u001b[1;32m~\\AppData\\Local\\Temp\\ipykernel_2336\\670117958.py\u001b[0m in \u001b[0;36m<module>\u001b[1;34m\u001b[0m\n\u001b[0;32m      1\u001b[0m \u001b[1;32mfrom\u001b[0m \u001b[0mPyPDF2\u001b[0m \u001b[1;32mimport\u001b[0m \u001b[0mPdfFileReader\u001b[0m\u001b[1;33m\u001b[0m\u001b[1;33m\u001b[0m\u001b[0m\n\u001b[1;32m----> 2\u001b[1;33m \u001b[1;32mfrom\u001b[0m \u001b[0mquestion_generation_main\u001b[0m \u001b[1;32mimport\u001b[0m \u001b[0mQuestionGeneration\u001b[0m\u001b[1;33m\u001b[0m\u001b[1;33m\u001b[0m\u001b[0m\n\u001b[0m\u001b[0;32m      3\u001b[0m \u001b[1;33m\u001b[0m\u001b[0m\n\u001b[0;32m      4\u001b[0m \u001b[1;33m\u001b[0m\u001b[0m\n\u001b[0;32m      5\u001b[0m \u001b[1;32mdef\u001b[0m \u001b[0mpdf2text\u001b[0m\u001b[1;33m(\u001b[0m\u001b[0mfile_path\u001b[0m\u001b[1;33m:\u001b[0m \u001b[0mstr\u001b[0m\u001b[1;33m,\u001b[0m \u001b[0mfile_exten\u001b[0m\u001b[1;33m:\u001b[0m \u001b[0mstr\u001b[0m\u001b[1;33m)\u001b[0m \u001b[1;33m->\u001b[0m \u001b[0mstr\u001b[0m\u001b[1;33m:\u001b[0m\u001b[1;33m\u001b[0m\u001b[1;33m\u001b[0m\u001b[0m\n",
      "\u001b[1;31mModuleNotFoundError\u001b[0m: No module named 'question_generation_main'"
     ]
    }
   ],
   "source": []
  },
  {
   "cell_type": "code",
   "execution_count": null,
   "id": "580da107",
   "metadata": {},
   "outputs": [],
   "source": []
  }
 ],
 "metadata": {
  "kernelspec": {
   "display_name": "Python 3 (ipykernel)",
   "language": "python",
   "name": "python3"
  },
  "language_info": {
   "codemirror_mode": {
    "name": "ipython",
    "version": 3
   },
   "file_extension": ".py",
   "mimetype": "text/x-python",
   "name": "python",
   "nbconvert_exporter": "python",
   "pygments_lexer": "ipython3",
   "version": "3.9.13"
  }
 },
 "nbformat": 4,
 "nbformat_minor": 5
}
